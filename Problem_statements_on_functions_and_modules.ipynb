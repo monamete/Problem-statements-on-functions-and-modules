{
  "nbformat": 4,
  "nbformat_minor": 0,
  "metadata": {
    "colab": {
      "provenance": []
    },
    "kernelspec": {
      "name": "python3",
      "display_name": "Python 3"
    },
    "language_info": {
      "name": "python"
    }
  },
  "cells": [
    {
      "cell_type": "code",
      "execution_count": 4,
      "metadata": {
        "colab": {
          "base_uri": "https://localhost:8080/"
        },
        "id": "xIEOYRXORunj",
        "outputId": "a9ab8beb-7269-4961-9ff5-fadc09003ce7"
      },
      "outputs": [
        {
          "output_type": "stream",
          "name": "stdout",
          "text": [
            "4\n"
          ]
        }
      ],
      "source": [
        "#1. Write Python Program to write function to Find HCF or GCD\n",
        "def sample(a,b):\n",
        "  while b:\n",
        "    a,b = b, a % b\n",
        "  return a\n",
        "print(sample(64,36))\n"
      ]
    },
    {
      "cell_type": "code",
      "source": [
        "def sample(a,b):\n",
        "  for num in range (b):\n",
        "    if b == 0:\n",
        "      break\n",
        "    a,b = b ,a % b\n",
        "  return a\n",
        "print(sample(64,36))\n"
      ],
      "metadata": {
        "colab": {
          "base_uri": "https://localhost:8080/"
        },
        "id": "AsPdycpLRynj",
        "outputId": "01af6ee1-e123-4799-c714-e3b95bc5dd49"
      },
      "execution_count": 10,
      "outputs": [
        {
          "output_type": "stream",
          "name": "stdout",
          "text": [
            "4\n"
          ]
        }
      ]
    },
    {
      "cell_type": "code",
      "source": [
        "#2. Write Python Program to write to Find LCM of numbers\n",
        "def sample(a,b):\n",
        "  for num in range (b):\n",
        "    if b == 0:\n",
        "      break\n",
        "    a,b = b ,a % b\n",
        "  return a\n",
        "def lcm(a,b):\n",
        "  hcf = sample(a,b)\n",
        "  return (a*b)//hcf\n",
        "lcm(24,36)\n"
      ],
      "metadata": {
        "colab": {
          "base_uri": "https://localhost:8080/"
        },
        "id": "WztZyYcoRykw",
        "outputId": "32d754d7-5540-4ec1-f4b3-b01ccf5797a5"
      },
      "execution_count": 14,
      "outputs": [
        {
          "output_type": "execute_result",
          "data": {
            "text/plain": [
              "72"
            ]
          },
          "metadata": {},
          "execution_count": 14
        }
      ]
    },
    {
      "cell_type": "code",
      "source": [
        "#3. Write Python Program to Make a Simple Calculator based on function\n",
        "def add(a,b):\n",
        "  return a+b\n",
        "def sub(a,b):\n",
        "  return a-b\n",
        "def mul(a,b):\n",
        "  return(a*b)\n",
        "def div(a,b):\n",
        "  if b == 0:\n",
        "    return \"Error! Division by zero.\"\n",
        "  return a / b\n",
        "\n",
        "def calculator():\n",
        "  print(\"select operation:\")\n",
        ""
      ],
      "metadata": {
        "colab": {
          "base_uri": "https://localhost:8080/"
        },
        "id": "SPnnUz_NRyhg",
        "outputId": "0f2f76a6-b864-43e4-d78e-3ab284ccc887"
      },
      "execution_count": 16,
      "outputs": [
        {
          "output_type": "execute_result",
          "data": {
            "text/plain": [
              "30"
            ]
          },
          "metadata": {},
          "execution_count": 16
        }
      ]
    },
    {
      "cell_type": "code",
      "source": [
        "#4. Write a function to find Fibonacci series from a number.\n",
        "def fibonnacci(n):\n",
        "  a,b = 0,1\n",
        "  while a <= n:\n",
        "    print(a,end =\" \")\n",
        "    a,b = b , a+b\n",
        "fibonnacci(50)\n"
      ],
      "metadata": {
        "colab": {
          "base_uri": "https://localhost:8080/"
        },
        "id": "OWlJILrHqJaa",
        "outputId": "6582eb4f-64c2-4dac-851b-7154e5af5e26"
      },
      "execution_count": 17,
      "outputs": [
        {
          "output_type": "stream",
          "name": "stdout",
          "text": [
            "0 1 1 2 3 5 8 13 21 34 "
          ]
        }
      ]
    },
    {
      "cell_type": "code",
      "source": [
        "#5. Write a Python function to find whether the number if prime or not\n",
        "def isPrime(num):\n",
        "    if num < 2:\n",
        "        return False\n",
        "    for i in range(2, num):\n",
        "        if num % i == 0:\n",
        "            return False\n",
        "    return True\n",
        "\n",
        "\n",
        "isPrime(29)\n"
      ],
      "metadata": {
        "colab": {
          "base_uri": "https://localhost:8080/"
        },
        "id": "PoGB0SzeqJXU",
        "outputId": "c96bd11a-d80e-49eb-c258-a3c47149e5b2"
      },
      "execution_count": 23,
      "outputs": [
        {
          "output_type": "execute_result",
          "data": {
            "text/plain": [
              "True"
            ]
          },
          "metadata": {},
          "execution_count": 23
        }
      ]
    },
    {
      "cell_type": "code",
      "source": [],
      "metadata": {
        "id": "9kLjGi7qRye7"
      },
      "execution_count": 10,
      "outputs": []
    },
    {
      "cell_type": "code",
      "source": [],
      "metadata": {
        "id": "ZpHkRJ_TRwfD"
      },
      "execution_count": null,
      "outputs": []
    },
    {
      "cell_type": "code",
      "source": [],
      "metadata": {
        "id": "XO-BdUN4RwTi"
      },
      "execution_count": null,
      "outputs": []
    },
    {
      "cell_type": "code",
      "source": [],
      "metadata": {
        "id": "eMDp8W1wRwP-"
      },
      "execution_count": null,
      "outputs": []
    },
    {
      "cell_type": "code",
      "source": [],
      "metadata": {
        "id": "CZcwqzz_RwNa"
      },
      "execution_count": null,
      "outputs": []
    },
    {
      "cell_type": "code",
      "source": [],
      "metadata": {
        "id": "zD8-KvqsRwJF"
      },
      "execution_count": null,
      "outputs": []
    },
    {
      "cell_type": "code",
      "source": [],
      "metadata": {
        "id": "2F6tX01kRwE5"
      },
      "execution_count": null,
      "outputs": []
    }
  ]
}